{
 "cells": [
  {
   "cell_type": "code",
   "execution_count": 7,
   "metadata": {},
   "outputs": [],
   "source": [
    "from data import getPecanstreetData\n",
    "from util import constructTimeStamps\n",
    "from datetime import datetime\n",
    "\n",
    "class Config:\n",
    "    def __init__(self):\n",
    "        self.LOOK_BACK = 10\n",
    "\n",
    "        self.SEED = 1\n",
    "\n",
    "        self.BEGIN = \"2019-05-01 00:00:00\"\n",
    "        self.END = \"2019-10-31 00:00:00\"\n",
    "        self.STEPSIZE = \"00:15:00\"\n",
    "\n",
    "        self.TRAINPART = 0.6\n",
    "        self.VALIDATIONPART = (1 - self.TRAINPART) / 2\n",
    "\n",
    "        self.DATA_FILE = \"../data/15minute_data_newyork.csv\"\n",
    "        self.TIME_HEADER = \"local_15min\"\n",
    "        self.DATAID = 1222\n",
    "        self.OUTPUT_FOLDER = \"../output/forecasting/load/\"\n",
    "\n",
    "        self.DO_PARAM_TUNING = False\n",
    "\n",
    "config = Config()\n",
    "\n",
    "timestamps = constructTimeStamps(\n",
    "    datetime.strptime(config.BEGIN, \"20%y-%m-%d %H:%M:%S\"),\n",
    "    datetime.strptime(config.END, \"20%y-%m-%d %H:%M:%S\"),\n",
    "    datetime.strptime(config.STEPSIZE, \"%H:%M:%S\")\n",
    "    - datetime.strptime(\"00:00:00\", \"%H:%M:%S\"),\n",
    ")\n",
    "\n",
    "\n",
    "INIT_MODEL_CONFIG = {\n",
    "    \"epochs\": 10,\n",
    "    \"patience\": 3,\n",
    "    \"batch_size\": 100,\n",
    "    \"dropout\": 0.2,\n",
    "    \"dense\": 1,\n",
    "    \"neurons\": 32,\n",
    "    \"activation_function\": \"linear\",\n",
    "    \"loss_function\": \"mean_squared_error\",\n",
    "    \"optimize_function\": \"adam\",\n",
    "    \"next\": \"epochs\",\n",
    "}\n",
    "\n",
    "loadsData = getPecanstreetData(\n",
    "        config.DATA_FILE, config.TIME_HEADER, config.DATAID, \"grid\", timestamps\n",
    "    )"
   ]
  },
  {
   "cell_type": "code",
   "execution_count": 8,
   "metadata": {},
   "outputs": [
    {
     "name": "stdout",
     "output_type": "stream",
     "text": [
      "local_15min\n",
      "2019-05-01 00:00:00    0.154\n",
      "2019-05-01 00:15:00    2.875\n",
      "2019-05-01 00:30:00    3.287\n",
      "2019-05-01 00:45:00    3.428\n",
      "2019-05-01 01:00:00    3.544\n",
      "                       ...  \n",
      "2019-08-13 02:45:00    0.171\n",
      "2019-08-13 03:00:00    0.200\n",
      "2019-08-13 03:15:00    0.254\n",
      "2019-08-13 03:30:00    0.165\n",
      "2019-08-13 03:45:00    0.126\n",
      "Length: 10000, dtype: float64\n"
     ]
    }
   ],
   "source": [
    "print(loadsData)"
   ]
  },
  {
   "cell_type": "code",
   "execution_count": null,
   "metadata": {},
   "outputs": [],
   "source": []
  }
 ],
 "metadata": {
  "kernelspec": {
   "display_name": "Python 3",
   "language": "python",
   "name": "python3"
  },
  "language_info": {
   "codemirror_mode": {
    "name": "ipython",
    "version": 3
   },
   "file_extension": ".py",
   "mimetype": "text/x-python",
   "name": "python",
   "nbconvert_exporter": "python",
   "pygments_lexer": "ipython3",
   "version": "3.7.4"
  }
 },
 "nbformat": 4,
 "nbformat_minor": 2
}
