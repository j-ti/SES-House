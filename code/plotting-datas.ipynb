{
 "cells": [
  {
   "cell_type": "code",
   "execution_count": null,
   "metadata": {
    "pycharm": {
     "is_executing": false
    }
   },
   "outputs": [],
   "source": [
    "# import global packages\n",
    "\n",
    "import matplotlib.pyplot as plt\n",
    "import numpy as np\n",
    "%matplotlib inline\n",
    "from datetime import datetime, timedelta\n",
    "\n",
    "import os\n",
    "import sys\n",
    "if os.path.abspath('code') not in sys.path :\n",
    "    sys.path.insert(0, os.path.abspath('code'))"
   ]
  },
  {
   "cell_type": "code",
   "execution_count": 92,
   "metadata": {
    "collapsed": false,
    "pycharm": {
     "name": "#%%\n",
     "is_executing": false
    }
   },
   "outputs": [],
   "source": [
    "#import local packages\n",
    "\n",
    "import data\n",
    "import util"
   ]
  },
  {
   "cell_type": "code",
   "execution_count": 93,
   "metadata": {
    "collapsed": false,
    "pycharm": {
     "name": "#%%\n",
     "is_executing": false
    }
   },
   "outputs": [],
   "source": [
    "# params\n",
    "\n",
    "nb_multDays = 7\n",
    "folder = (\n",
    "        \"../output/\"\n",
    "        + str(datetime.now()).replace(\" \", \"_\").replace(\":\", \"-\")\n",
    "        + \"/\"\n",
    "    )\n",
    "if not os.path.isdir(folder) : \n",
    "    os.makedirs(folder)\n",
    "def x_value(day) :\n",
    "    return np.linspace(0, 24*day, 24*day+1)\n",
    "start_day = datetime(2014, 1, 1, 0, 0, 0)\n",
    "end_day = datetime(2014, 1, 2, 0, 0, 0)\n",
    "start_multDays = datetime(2014, 1, 1, 0, 0, 0)\n",
    "end_multDays = datetime(2014, 1, 1+nb_multDays, 0, 0, 0)\n",
    "step = timedelta(hours=1)\n",
    "\n",
    "save_dpi = 400\n",
    "save = True\n",
    "save_size=(1000/save_dpi, 1000/save_dpi)"
   ]
  },
  {
   "cell_type": "markdown",
   "metadata": {
    "pycharm": {
     "is_executing": false,
     "name": "#%% md\n"
    }
   },
   "source": [
    "PV - ninja_pv_52.5170_13.3889_corrected.csv"
   ]
  },
  {
   "cell_type": "code",
   "execution_count": null,
   "metadata": {
    "collapsed": false,
    "pycharm": {
     "name": "#%% \n",
     "is_executing": true
    }
   },
   "outputs": [],
   "source": [
    "pv_data = data.getNinja('../sample/ninja_pv_52.5170_13.3889_corrected.csv', util.constructTimeStamps(start_day, end_day, step))\n",
    "\n",
    "plt.plot(x_value(1), pv_data, label = \"pv\")\n",
    "plt.xlabel(\"Hour\")\n",
    "plt.ylabel(\"Output power - kW\")\n",
    "plt.legend(loc = 'upper left')\n",
    "plt.savefig(folder + 'PV - 1day.png', dpi=save_dpi, figsize=save_size)\n",
    "plt.show()\n",
    "\n",
    "pv_data = data.getNinja('../sample/ninja_pv_52.5170_13.3889_corrected.csv', util.constructTimeStamps(start_multDays, end_multDays, step))\n",
    "\n",
    "plt.plot(x_value(nb_multDays),pv_data, label = \"pv\", color='orange')\n",
    "plt.xticks([24*i for i in range(nb_multDays)], [i+1 for i in range(nb_multDays)])\n",
    "plt.grid(b='true', which='major', axis='x', xdata=[24*i for i in range(nb_multDays)])\n",
    "plt.xlabel(\"Day\")\n",
    "plt.ylabel(\"Output power - kW\")\n",
    "plt.legend(loc = 'upper left')\n",
    "\n",
    "plt.savefig(folder + 'PV - ' + str(nb_multDays) + 'day.png', dpi=save_dpi, figsize=save_size)\n",
    "plt.show()"
   ]
  },
  {
   "cell_type": "markdown",
   "metadata": {
    "collapsed": false,
    "pycharm": {
     "name": "#%% md\n"
    }
   },
   "source": [
    "Wind - ninja_wind_52.5170_13.3889_corrected.csv"
   ]
  },
  {
   "cell_type": "code",
   "execution_count": null,
   "metadata": {
    "collapsed": false,
    "pycharm": {
     "name": "#%% \n",
     "is_executing": true
    }
   },
   "outputs": [],
   "source": [
    "wind_data = data.getNinja('../sample/ninja_wind_52.5170_13.3889_corrected.csv', util.constructTimeStamps(start_day, end_day, step))\n",
    "\n",
    "plt.plot(x_value(1),wind_data, label = \"wind\", color='blue')\n",
    "plt.xlabel(\"Hour\")\n",
    "plt.ylabel(\"Output power - kW\")\n",
    "plt.legend(loc = 'upper left')\n",
    "\n",
    "plt.savefig(folder + 'Wind - 1day.png', dpi=save_dpi, figsize=save_size)\n",
    "plt.show()\n",
    "\n",
    "wind_data = data.getNinja('../sample/ninja_wind_52.5170_13.3889_corrected.csv', util.constructTimeStamps(start_multDays, end_multDays, step))\n",
    "\n",
    "plt.plot(x_value(nb_multDays),wind_data, label = \"wind\", color='blue')\n",
    "plt.xticks([24*i for i in range(nb_multDays)], [i+1 for i in range(nb_multDays)])\n",
    "plt.grid(b='true', which='major', axis='x', xdata=[24*i for i in range(nb_multDays)])\n",
    "plt.xlabel(\"Day\")\n",
    "plt.ylabel(\"Output power - kW\")\n",
    "plt.legend(loc = 'upper left')\n",
    "\n",
    "plt.savefig(folder + 'Wind - ' + str(nb_multDays) + 'day.png', dpi=save_dpi, figsize=save_size) \n",
    "plt.show()"
   ]
  },
  {
   "cell_type": "markdown",
   "metadata": {
    "collapsed": false
   },
   "source": [
    "Loads - pecan-home86-grid-201401010000_201402010000-15m.csv"
   ]
  },
  {
   "cell_type": "code",
   "execution_count": null,
   "metadata": {
    "collapsed": false,
    "pycharm": {
     "name": "#%% \n",
     "is_executing": true
    }
   },
   "outputs": [],
   "source": [
    "price_data = data.getLoadsData('../sample/pecan-home86-grid-201401010000_201402010000-15m.csv', util.constructTimeStamps(start_day, end_day, step))\n",
    "\n",
    "plt.plot(x_value(1),price_data, label = \"Loads\")\n",
    "plt.xlabel(\"Hour\")\n",
    "plt.ylabel(\"Loads - kW\")\n",
    "plt.legend(loc = 'upper left')\n",
    "\n",
    "plt.savefig(folder + 'Loads - 1day.png', dpi=save_dpi, figsize=save_size)\n",
    "plt.show()\n",
    "\n",
    "price_data = data.getLoadsData('../sample/pecan-home86-grid-201401010000_201402010000-15m.csv', util.constructTimeStamps(start_multDays, end_multDays, step))\n",
    "\n",
    "plt.plot(x_value(nb_multDays),price_data, label = \"Load\", color='orange')\n",
    "plt.xticks([24*i for i in range(nb_multDays)], [i+1 for i in range(nb_multDays)])\n",
    "plt.grid(b='true', which='major', axis='x', xdata=[24*i for i in range(nb_multDays)])\n",
    "plt.xlabel(\"Day\")\n",
    "plt.ylabel(\"Load - kW\")\n",
    "plt.legend(loc = 'upper left')\n",
    "\n",
    "plt.savefig(folder + 'Loads - ' + str(nb_multDays) + 'day.png', dpi=save_dpi, figsize=save_size)\n",
    "plt.show()"
   ]
  },
  {
   "cell_type": "markdown",
   "metadata": {
    "collapsed": false
   },
   "source": [
    "Prices - pecan-iso_neiso-day_ahead_lmp_avg-201901010000-201902010000.csv"
   ]
  },
  {
   "cell_type": "code",
   "execution_count": null,
   "metadata": {
    "collapsed": false,
    "pycharm": {
     "name": "#%% \n",
     "is_executing": true
    }
   },
   "outputs": [],
   "source": [
    "off = timedelta(days=365*5+1)\n",
    "price_data = data.getPriceData('../sample/pecan-iso_neiso-day_ahead_lmp_avg-201901010000-201902010000.csv', util.constructTimeStamps(start_day, end_day, step), off)\n",
    "\n",
    "plt.plot(x_value(1),price_data, label = \"Price\")\n",
    "plt.xlabel(\"Hour\")\n",
    "plt.ylabel(\"Price - $ / MWh\")\n",
    "plt.legend(loc = 'upper left')\n",
    "\n",
    "plt.savefig(folder + 'price - 1day.png', dpi=save_dpi, figsize=save_size) \n",
    "plt.show()\n",
    "\n",
    "price_data = data.getPriceData('../sample/pecan-iso_neiso-day_ahead_lmp_avg-201901010000-201902010000.csv', util.constructTimeStamps(start_multDays, end_multDays, step), off)\n",
    "\n",
    "plt.plot(x_value(nb_multDays),price_data, label = \"Price\", color='orange')\n",
    "plt.xticks([24*i for i in range(nb_multDays)], [i+1 for i in range(nb_multDays)])\n",
    "plt.grid(b='true', which='major', axis='x', xdata=[24*i for i in range(nb_multDays)])\n",
    "plt.xlabel(\"Day\")\n",
    "plt.ylabel(\"Price - $ / MWh\")\n",
    "plt.legend(loc = 'upper left')\n",
    "\n",
    "plt.savefig(folder + 'price - ' + str(nb_multDays) + 'day.png', dpi=save_dpi, figsize=save_size)\n",
    "plt.show()"
   ]
  }
 ],
 "metadata": {
  "kernelspec": {
   "display_name": "Python 3",
   "language": "python",
   "name": "python3"
  },
  "language_info": {
   "codemirror_mode": {
    "name": "ipython",
    "version": 3.0
   },
   "file_extension": ".py",
   "mimetype": "text/x-python",
   "name": "python",
   "nbconvert_exporter": "python",
   "pygments_lexer": "ipython3",
   "version": "3.7.4"
  },
  "pycharm": {
   "stem_cell": {
    "cell_type": "raw",
    "source": [],
    "metadata": {
     "collapsed": false
    }
   }
  }
 },
 "nbformat": 4,
 "nbformat_minor": 0
}