{
 "cells": [
  {
   "cell_type": "code",
   "execution_count": null,
   "metadata": {
    "collapsed": true
   },
   "outputs": [],
   "source": [
    "import gurobipy as gp\n",
    "from gurobipy import GRB\n"
   ]
  },
  {
   "cell_type": "code",
   "execution_count": null,
   "outputs": [],
   "source": [
    "pvGenerators = [\"pv1\", \"pv2\"]\n",
    "dieselGenerators = [\"dg1\"]\n",
    "windGenerators = [\"wind1\"]\n",
    "generators = [\"grid\"] + pvGenerators + dieselGenerators + windGenerators\n",
    "\n",
    "electricVehicles = [\"ev1\"]\n",
    "nonEVBatteries = [\"bat1\"]\n",
    "batteries = electricVehicles + nonEVBatteries\n",
    "shiftableLoads = [\"shift1\", \"shift2\"]\n",
    "interrupableLoads = [\"interrupt1\"]\n",
    "loads = [\"uncontrollable\"] + shiftableLoads + interrupableLoads\n",
    "\n",
    "pvPowers = {\"pv1\": [1, 3, 0], \"pv2\": [0, 0, 2]}\n",
    "windPowers = {\"wind1\": [1, 3, 0], \"wind2\": [0, 0, 2]}\n",
    "times = [1575375592443, 1575375592449, 1575375593949]"
   ],
   "metadata": {
    "collapsed": false,
    "pycharm": {
     "name": "#%%\n"
    }
   }
  },
  {
   "cell_type": "code",
   "execution_count": null,
   "outputs": [],
   "source": [
    "assert len(pvPowers) == len(pvGenerators)\n",
    "for value in pvPowers.values():\n",
    "    assert len(value) == len(times)"
   ],
   "metadata": {
    "collapsed": false,
    "pycharm": {
     "name": "#%%\n"
    }
   }
  },
  {
   "cell_type": "code",
   "execution_count": null,
   "outputs": [],
   "source": [
    "# Create a new model\n",
    "m = gp.Model(\"simple\")\n",
    "\n",
    "# Create variables\n",
    "gridVars = m.addVars(len(times), 1, vtype=GRB.CONTINUOUS, name=\"gridPowers\")\n",
    "dieselGeneratorsVars = m.addVars(\n",
    "    len(times), 1, vtype=GRB.CONTINUOUS, name=\"dieselGenerators\"\n",
    ")\n",
    "z = m.addVar(vtype=GRB.BINARY, name=\"z\")\n",
    "\n",
    "# Set objective\n",
    "m.setObjective(gp.quicksum(dieselGeneratorsVars), GRB.MINIMIZE)\n",
    "\n",
    "# Add constraint: x + 2 y + 3 z <= 4\n",
    "m.addConstrs(\n",
    "    (dieselGeneratorsVars[i, 0] >= 0 for i in range(len(times))),\n",
    "    \"diesel generator positive\",\n",
    ")"
   ],
   "metadata": {
    "collapsed": false,
    "pycharm": {
     "name": "#%%\n"
    }
   }
  },
  {
   "cell_type": "code",
   "execution_count": null,
   "outputs": [],
   "source": [
    "# Optimize model\n",
    "m.optimize()"
   ],
   "metadata": {
    "collapsed": false,
    "pycharm": {
     "name": "#%%\n"
    }
   }
  },
  {
   "cell_type": "code",
   "execution_count": null,
   "outputs": [],
   "source": [
    "for v in m.getVars():\n",
    "    print(\"%s %g\" % (v.varName, v.x))\n",
    "\n",
    "print(\"Obj: %g\" % m.objVal)\n",
    "\n"
   ],
   "metadata": {
    "collapsed": false,
    "pycharm": {
     "name": "#%%\n"
    }
   }
  }
 ],
 "metadata": {
  "kernelspec": {
   "display_name": "Python 3",
   "language": "python",
   "name": "python3"
  },
  "language_info": {
   "codemirror_mode": {
    "name": "ipython",
    "version": 2
   },
   "file_extension": ".py",
   "mimetype": "text/x-python",
   "name": "python",
   "nbconvert_exporter": "python",
   "pygments_lexer": "ipython2",
   "version": "2.7.6"
  },
  "pycharm": {
   "stem_cell": {
    "cell_type": "raw",
    "source": [],
    "metadata": {
     "collapsed": false
    }
   }
  }
 },
 "nbformat": 4,
 "nbformat_minor": 0
}